{
 "cells": [
  {
   "cell_type": "code",
   "execution_count": 9,
   "metadata": {
    "collapsed": false
   },
   "outputs": [],
   "source": [
    "%matplotlib inline"
   ]
  },
  {
   "cell_type": "code",
   "execution_count": 10,
   "metadata": {
    "collapsed": true
   },
   "outputs": [],
   "source": [
    "import matplotlib.pyplot as plt\n",
    "import seaborn as sns\n",
    "import numpy as np\n",
    "import pandas as pd\n",
    "import scipy as sp"
   ]
  },
  {
   "cell_type": "markdown",
   "metadata": {},
   "source": [
    "# Task: Correlation & Dependency"
   ]
  },
  {
   "cell_type": "markdown",
   "metadata": {},
   "source": [
    "In this task you are given three datasets `corrdep1.csv`, `corrdep2.csv`, `corrdep3.csv`.\n",
    "\n",
    "Each dataset has two sets of samples `x` and `y`.\n",
    "\n",
    "For each dataset answer the following questions\n",
    "\n",
    "1. Are the samples x and y correlated? Explain why/why not.\n",
    "\n",
    "    * What statistical measure can you use answer this question?\n",
    "    * Compute this this measure for your samples x and y\n",
    "    * Render a plot which helps you to see the correlation between x and y (if it exists)\n",
    "\n",
    "2. Are the distributions from which $x$ and $y$ are drawn stochastically independent? Explain why/why not.\n",
    "\n",
    "You can argument using plots in the presentation."
   ]
  },
  {
   "cell_type": "markdown",
   "metadata": {},
   "source": [
    "Explain in general what correlation / stochastical (in)dependence using the plots of the three datasets."
   ]
  },
  {
   "cell_type": "code",
   "execution_count": 11,
   "metadata": {
    "collapsed": false
   },
   "outputs": [],
   "source": [
    "df = pd.read_csv('data/corrdep1.csv', index_col=0)"
   ]
  },
  {
   "cell_type": "code",
   "execution_count": 12,
   "metadata": {
    "collapsed": false,
    "scrolled": true
   },
   "outputs": [
    {
     "data": {
      "text/html": [
       "<div>\n",
       "<table border=\"1\" class=\"dataframe\">\n",
       "  <thead>\n",
       "    <tr style=\"text-align: right;\">\n",
       "      <th></th>\n",
       "      <th>x</th>\n",
       "      <th>y</th>\n",
       "    </tr>\n",
       "  </thead>\n",
       "  <tbody>\n",
       "    <tr>\n",
       "      <th>0</th>\n",
       "      <td>-8.645908</td>\n",
       "      <td>6.103646</td>\n",
       "    </tr>\n",
       "    <tr>\n",
       "      <th>1</th>\n",
       "      <td>-7.194115</td>\n",
       "      <td>6.090273</td>\n",
       "    </tr>\n",
       "    <tr>\n",
       "      <th>2</th>\n",
       "      <td>-8.531907</td>\n",
       "      <td>6.100312</td>\n",
       "    </tr>\n",
       "    <tr>\n",
       "      <th>3</th>\n",
       "      <td>-6.789834</td>\n",
       "      <td>6.090637</td>\n",
       "    </tr>\n",
       "    <tr>\n",
       "      <th>4</th>\n",
       "      <td>-7.405930</td>\n",
       "      <td>6.029871</td>\n",
       "    </tr>\n",
       "  </tbody>\n",
       "</table>\n",
       "</div>"
      ],
      "text/plain": [
       "          x         y\n",
       "0 -8.645908  6.103646\n",
       "1 -7.194115  6.090273\n",
       "2 -8.531907  6.100312\n",
       "3 -6.789834  6.090637\n",
       "4 -7.405930  6.029871"
      ]
     },
     "execution_count": 12,
     "metadata": {},
     "output_type": "execute_result"
    }
   ],
   "source": [
    "df.head()"
   ]
  },
  {
   "cell_type": "markdown",
   "metadata": {},
   "source": [
    "# Task: A/B Test"
   ]
  },
  {
   "cell_type": "markdown",
   "metadata": {},
   "source": [
    "A product manager at your company has exciting news\n",
    "\n",
    "> \"We've developed a new improved experience for our customers.\n",
    "> We believe a customer with the new experience will perfom better.\n",
    "> The costs per customer for this new experience are only 10 EUR higher than for the old experience, which is 40 EUR.\"\n",
    "\n",
    "To measure the perfomance of a customer's experience your company uses two indicators:\n",
    "\n",
    "1. The *revenue* from the customer after the experience\n",
    "2. The *profit* from the customer after the experience, which is defined as `profit = revenue - cost`\n",
    "\n",
    "Your job is to use your data skills to give advice for business related questions like:\n",
    "\n",
    "* Is the new experience better? In what sense?\n",
    "* Should we give all our customers the new experience if we want to increase or profit?\n",
    "* Do you see any opportunities or risks?\n",
    "\n",
    "Task:\n",
    "*For the presentation of this task please prepare how you would answer these questions*\n",
    "\n"
   ]
  },
  {
   "cell_type": "markdown",
   "metadata": {},
   "source": [
    "### AB-Test Data"
   ]
  },
  {
   "cell_type": "markdown",
   "metadata": {},
   "source": [
    "To compare the perfomance of both experiences you set up A/B test.\n",
    "1000 customers get randomly assigned to one of the groups 'A' or 'B':\n",
    "\n",
    "* Customers in group `A` get the old experience\n",
    "* Customers in group `B` get the new experience\n",
    "\n",
    "Afterwards you measure the revenue of each customer.\n",
    "\n",
    "You can find the results of the A/B test in the file `abtest.csv`.\n",
    "\n",
    "* Each row corresponds to customer.\n",
    "* There is a column for the Group and the revenue of that customer after he had the experience.\n",
    "* The `profit` indicator is missing however."
   ]
  },
  {
   "cell_type": "code",
   "execution_count": 13,
   "metadata": {
    "collapsed": false
   },
   "outputs": [],
   "source": [
    "df = pd.read_csv('./data/abtest.csv', index_col=0)"
   ]
  },
  {
   "cell_type": "code",
   "execution_count": 14,
   "metadata": {
    "collapsed": false
   },
   "outputs": [
    {
     "data": {
      "text/html": [
       "<div>\n",
       "<table border=\"1\" class=\"dataframe\">\n",
       "  <thead>\n",
       "    <tr style=\"text-align: right;\">\n",
       "      <th></th>\n",
       "      <th>group</th>\n",
       "      <th>revenue</th>\n",
       "    </tr>\n",
       "  </thead>\n",
       "  <tbody>\n",
       "    <tr>\n",
       "      <th>0</th>\n",
       "      <td>B</td>\n",
       "      <td>213.110458</td>\n",
       "    </tr>\n",
       "    <tr>\n",
       "      <th>1</th>\n",
       "      <td>A</td>\n",
       "      <td>176.991278</td>\n",
       "    </tr>\n",
       "    <tr>\n",
       "      <th>2</th>\n",
       "      <td>B</td>\n",
       "      <td>163.633483</td>\n",
       "    </tr>\n",
       "    <tr>\n",
       "      <th>3</th>\n",
       "      <td>A</td>\n",
       "      <td>177.462680</td>\n",
       "    </tr>\n",
       "    <tr>\n",
       "      <th>4</th>\n",
       "      <td>A</td>\n",
       "      <td>145.811346</td>\n",
       "    </tr>\n",
       "  </tbody>\n",
       "</table>\n",
       "</div>"
      ],
      "text/plain": [
       "  group     revenue\n",
       "0     B  213.110458\n",
       "1     A  176.991278\n",
       "2     B  163.633483\n",
       "3     A  177.462680\n",
       "4     A  145.811346"
      ]
     },
     "execution_count": 14,
     "metadata": {},
     "output_type": "execute_result"
    }
   ],
   "source": [
    "df.head()"
   ]
  },
  {
   "cell_type": "markdown",
   "metadata": {},
   "source": [
    "### Exploratory Data Analysis"
   ]
  },
  {
   "cell_type": "markdown",
   "metadata": {},
   "source": [
    "* Compute the `profit` performance indicator which is missing from the data\n",
    "* Generate a plot that allows one to compare the performance of both groups"
   ]
  },
  {
   "cell_type": "markdown",
   "metadata": {},
   "source": [
    "### Hypothesis testing"
   ]
  },
  {
   "cell_type": "markdown",
   "metadata": {},
   "source": [
    "Answer the question\n",
    "> Are the differences in perfomance in both groups significant or just a coincidence?"
   ]
  },
  {
   "cell_type": "markdown",
   "metadata": {},
   "source": [
    "* Find a statistical test that you could use to answer this question. You can assume that you don't any population parameters. You can use [this overview](https://en.wikipedia.org/wiki/Statistical_hypothesis_testing#Common_test_statistics) from wikipedia to find a suitable test. Explain why you chose it."
   ]
  },
  {
   "cell_type": "markdown",
   "metadata": {},
   "source": [
    "* Formulate the Hypothesis for your test, ands its Null-Hypothesis"
   ]
  },
  {
   "cell_type": "markdown",
   "metadata": {},
   "source": [
    "* Apply your test to the data from the indicators and compute the *p* value.\n",
    "\n",
    "  Use an existing implementation from a library, don't write it yourself. Implementations exist in the [scipy](http://docs.scipy.org/doc/scipy/reference/stats.html#statistical-functions)\n",
    "  and [statsmodels](http://statsmodels.sourceforge.net/stable/stats.html) libraries"
   ]
  },
  {
   "cell_type": "markdown",
   "metadata": {},
   "source": [
    "# Task: Least squares constant"
   ]
  },
  {
   "cell_type": "markdown",
   "metadata": {},
   "source": [
    "Let $y_1, y_2, \\ldots, y_n$ be real numbers. For a number $x$ we define\n",
    "the sum of squared distances\n",
    "$$f(x) := \\sum_{i=1}^n (x-y_i)^2$$"
   ]
  },
  {
   "cell_type": "markdown",
   "metadata": {},
   "source": [
    "* Which $x$ minimizes $f(x)$ in general? Solve analytically."
   ]
  },
  {
   "cell_type": "markdown",
   "metadata": {},
   "source": [
    "* Implement $f$ as python function for some real data $y$ in file `leastsquares.csv`"
   ]
  },
  {
   "cell_type": "markdown",
   "metadata": {},
   "source": [
    "* Find `x_min` that minimizes the python function"
   ]
  },
  {
   "cell_type": "markdown",
   "metadata": {},
   "source": [
    "* Plot `f(x)` around the the optimal `x_min`"
   ]
  },
  {
   "cell_type": "code",
   "execution_count": 15,
   "metadata": {
    "collapsed": false
   },
   "outputs": [],
   "source": [
    "df = pd.read_csv('data/leastsquares.csv', index_col=0);"
   ]
  },
  {
   "cell_type": "code",
   "execution_count": 16,
   "metadata": {
    "collapsed": false
   },
   "outputs": [
    {
     "data": {
      "text/plain": [
       "0    45.631415\n",
       "1    14.737389\n",
       "2    92.859182\n",
       "3    51.230321\n",
       "4    49.903596\n",
       "Name: y, dtype: float64"
      ]
     },
     "execution_count": 16,
     "metadata": {},
     "output_type": "execute_result"
    }
   ],
   "source": [
    "df['y'].head()"
   ]
  },
  {
   "cell_type": "code",
   "execution_count": null,
   "metadata": {
    "collapsed": true
   },
   "outputs": [],
   "source": []
  }
 ],
 "metadata": {
  "kernelspec": {
   "display_name": "Python 3",
   "language": "python",
   "name": "python3"
  },
  "language_info": {
   "codemirror_mode": {
    "name": "ipython",
    "version": 3
   },
   "file_extension": ".py",
   "mimetype": "text/x-python",
   "name": "python",
   "nbconvert_exporter": "python",
   "pygments_lexer": "ipython3",
   "version": "3.4.3"
  }
 },
 "nbformat": 4,
 "nbformat_minor": 0
}

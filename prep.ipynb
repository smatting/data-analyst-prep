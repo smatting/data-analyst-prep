{
 "cells": [
  {
   "cell_type": "code",
   "execution_count": 11,
   "metadata": {
    "collapsed": false
   },
   "outputs": [],
   "source": [
    "%matplotlib inline"
   ]
  },
  {
   "cell_type": "code",
   "execution_count": 12,
   "metadata": {
    "collapsed": false
   },
   "outputs": [],
   "source": [
    "import matplotlib.pyplot as plt\n",
    "import seaborn as sns\n",
    "import numpy as np\n",
    "import pandas as pd\n",
    "import scipy as sp\n",
    "import statsmodels as sm"
   ]
  },
  {
   "cell_type": "markdown",
   "metadata": {},
   "source": [
    "# Task: Correlation & Dependency"
   ]
  },
  {
   "cell_type": "markdown",
   "metadata": {},
   "source": [
    "In this task you are given three datasets `corrdep1.csv`, `corrdep2.csv`, `corrdep3.csv`.\n",
    "\n",
    "Each dataset contains samples $(x_1, y_1), (x_2, y_2), (x_3, y_3), \\dots$ from a joint distribution $(X, Y)$.\n",
    "\n",
    "For each dataset answer the following questions\n",
    "\n",
    "1. Are  $X$ and $Y$ correlated? Explain why/why not.\n",
    "\n",
    "    * What statistical measure can you use answer this question?\n",
    "    * Compute this this measure for your samples x and y\n",
    "    * Render a plot which helps you to see the correlation between x and y (if it exists)\n",
    "\n",
    "2. Are the $X$ and $Y$ stochastically independent? Explain why/why not.\n",
    "\n",
    "You can argument using plots in the presentation."
   ]
  },
  {
   "cell_type": "markdown",
   "metadata": {},
   "source": [
    "Explain in general what correlation / stochastical (in)dependence using the plots of the three datasets."
   ]
  },
  {
   "cell_type": "code",
   "execution_count": 13,
   "metadata": {
    "collapsed": false
   },
   "outputs": [],
   "source": [
    "df = pd.read_csv('data/corrdep1.csv', index_col=0)"
   ]
  },
  {
   "cell_type": "code",
   "execution_count": 14,
   "metadata": {
    "collapsed": false,
    "scrolled": true
   },
   "outputs": [
    {
     "data": {
      "text/html": [
       "<div>\n",
       "<table border=\"1\" class=\"dataframe\">\n",
       "  <thead>\n",
       "    <tr style=\"text-align: right;\">\n",
       "      <th></th>\n",
       "      <th>x</th>\n",
       "      <th>y</th>\n",
       "    </tr>\n",
       "  </thead>\n",
       "  <tbody>\n",
       "    <tr>\n",
       "      <th>0</th>\n",
       "      <td>-8.645908</td>\n",
       "      <td>6.103646</td>\n",
       "    </tr>\n",
       "    <tr>\n",
       "      <th>1</th>\n",
       "      <td>-7.194115</td>\n",
       "      <td>6.090273</td>\n",
       "    </tr>\n",
       "    <tr>\n",
       "      <th>2</th>\n",
       "      <td>-8.531907</td>\n",
       "      <td>6.100312</td>\n",
       "    </tr>\n",
       "    <tr>\n",
       "      <th>3</th>\n",
       "      <td>-6.789834</td>\n",
       "      <td>6.090637</td>\n",
       "    </tr>\n",
       "    <tr>\n",
       "      <th>4</th>\n",
       "      <td>-7.405930</td>\n",
       "      <td>6.029871</td>\n",
       "    </tr>\n",
       "  </tbody>\n",
       "</table>\n",
       "</div>"
      ],
      "text/plain": [
       "          x         y\n",
       "0 -8.645908  6.103646\n",
       "1 -7.194115  6.090273\n",
       "2 -8.531907  6.100312\n",
       "3 -6.789834  6.090637\n",
       "4 -7.405930  6.029871"
      ]
     },
     "execution_count": 14,
     "metadata": {},
     "output_type": "execute_result"
    }
   ],
   "source": [
    "df.head()"
   ]
  },
  {
   "cell_type": "markdown",
   "metadata": {},
   "source": [
    "# Task: A/B Test"
   ]
  },
  {
   "cell_type": "markdown",
   "metadata": {},
   "source": [
    "A product manager at your company has exciting news\n",
    "\n",
    "> \"We've developed a new improved experience for our customers.\n",
    "> We believe a customer with the new experience will perfom better. The new experience however costs 50 EUR per customer compared to 40 EUR of the old experience\"\n",
    "\n",
    "To measure the perfomance of a customer's experience your company uses these indicators:\n",
    "\n",
    "1. The *revenue* from the customer after the experience\n",
    "2. The *profit* from the customer after the experience, which is defined as `profit = revenue - cost`\n",
    "\n",
    "Your job is to use your data skills to give advice for business related questions like:\n",
    "\n",
    "* Is the new experience better? In what sense?\n",
    "* Should we give all our customers the new experience if we want to increase or profit?\n",
    "* Do you see any opportunities?\n",
    "\n",
    "Task:\n",
    "*For the presentation of this task please prepare how you would answer these questions*\n",
    "\n"
   ]
  },
  {
   "cell_type": "markdown",
   "metadata": {},
   "source": [
    "### AB-Test Data"
   ]
  },
  {
   "cell_type": "markdown",
   "metadata": {},
   "source": [
    "To compare the perfomance of both experiences you set up A/B test.\n",
    "1000 customers get randomly assigned to one of the groups 'A' or 'B':\n",
    "\n",
    "* Customers in group `A` get the old experience\n",
    "* Customers in group `B` get the new experience\n",
    "\n",
    "Afterwards you measure the revenue of each customer.\n",
    "\n",
    "You can find the results of the A/B test in the file `abtest.csv`.\n",
    "\n",
    "* Each row corresponds to customer.\n",
    "* There is a column for the Group and the revenue of that customer after he had the experience.\n",
    "* The `profit` indicator is missing however."
   ]
  },
  {
   "cell_type": "code",
   "execution_count": 81,
   "metadata": {
    "collapsed": false
   },
   "outputs": [],
   "source": [
    "df = pd.read_csv('./data/abtest.csv', index_col=0)"
   ]
  },
  {
   "cell_type": "code",
   "execution_count": 82,
   "metadata": {
    "collapsed": false
   },
   "outputs": [
    {
     "data": {
      "text/html": [
       "<div>\n",
       "<table border=\"1\" class=\"dataframe\">\n",
       "  <thead>\n",
       "    <tr style=\"text-align: right;\">\n",
       "      <th></th>\n",
       "      <th>group</th>\n",
       "      <th>revenue</th>\n",
       "      <th>cost</th>\n",
       "    </tr>\n",
       "  </thead>\n",
       "  <tbody>\n",
       "    <tr>\n",
       "      <th>0</th>\n",
       "      <td>A</td>\n",
       "      <td>128.163311</td>\n",
       "      <td>40</td>\n",
       "    </tr>\n",
       "    <tr>\n",
       "      <th>1</th>\n",
       "      <td>B</td>\n",
       "      <td>139.377046</td>\n",
       "      <td>50</td>\n",
       "    </tr>\n",
       "    <tr>\n",
       "      <th>2</th>\n",
       "      <td>A</td>\n",
       "      <td>208.989308</td>\n",
       "      <td>40</td>\n",
       "    </tr>\n",
       "    <tr>\n",
       "      <th>3</th>\n",
       "      <td>A</td>\n",
       "      <td>186.709871</td>\n",
       "      <td>40</td>\n",
       "    </tr>\n",
       "    <tr>\n",
       "      <th>4</th>\n",
       "      <td>A</td>\n",
       "      <td>226.005842</td>\n",
       "      <td>40</td>\n",
       "    </tr>\n",
       "  </tbody>\n",
       "</table>\n",
       "</div>"
      ],
      "text/plain": [
       "  group     revenue  cost\n",
       "0     A  128.163311    40\n",
       "1     B  139.377046    50\n",
       "2     A  208.989308    40\n",
       "3     A  186.709871    40\n",
       "4     A  226.005842    40"
      ]
     },
     "execution_count": 82,
     "metadata": {},
     "output_type": "execute_result"
    }
   ],
   "source": [
    "df.head()"
   ]
  },
  {
   "cell_type": "markdown",
   "metadata": {},
   "source": [
    "### Exploratory Data Analysis"
   ]
  },
  {
   "cell_type": "markdown",
   "metadata": {},
   "source": [
    "* Compute the `profit` performance indicator which is missing from the data\n",
    "* Generate a plot that allows one to compare the performance of both groups"
   ]
  },
  {
   "cell_type": "markdown",
   "metadata": {},
   "source": [
    "### Hypothesis testing"
   ]
  },
  {
   "cell_type": "markdown",
   "metadata": {},
   "source": [
    "Answer the question\n",
    "> Are the differences in perfomance in both groups statistically significant?"
   ]
  },
  {
   "cell_type": "markdown",
   "metadata": {},
   "source": [
    "* Find a statistical test that you could use to answer this question. You can assume that you don't know any population parameters. You can use [this overview](https://en.wikipedia.org/wiki/Statistical_hypothesis_testing#Common_test_statistics) from wikipedia to find a suitable test. Explain why you chose it."
   ]
  },
  {
   "cell_type": "markdown",
   "metadata": {},
   "source": [
    "* What is the hypothesis / null-hypothesis of your test?"
   ]
  },
  {
   "cell_type": "markdown",
   "metadata": {},
   "source": [
    "* Apply your test to the data of indicators and compute the *p* value of your test.\n",
    "\n",
    "  Use an existing implementation from a library, don't write it yourself. Implementations exist in the [scipy.stats](http://docs.scipy.org/doc/scipy/reference/stats.html#statistical-functions)\n",
    "  and [statsmodels](http://statsmodels.sourceforge.net/stable/stats.html) libraries"
   ]
  },
  {
   "cell_type": "markdown",
   "metadata": {},
   "source": [
    "# Task: Least squares constant"
   ]
  },
  {
   "cell_type": "markdown",
   "metadata": {},
   "source": [
    "Let $y_1, y_2, \\ldots, y_n$ be real numbers. For a number $x$ we define\n",
    "the sum of squared distances\n",
    "$$f(x) := \\sum_{i=1}^n (x-y_i)^2$$"
   ]
  },
  {
   "cell_type": "markdown",
   "metadata": {},
   "source": [
    "* Which $x$ minimizes $f(x)$ in general? Solve analytically."
   ]
  },
  {
   "cell_type": "markdown",
   "metadata": {},
   "source": [
    "* Implement $f$ as python function for some real data $y$ in file `leastsquares.csv`"
   ]
  },
  {
   "cell_type": "markdown",
   "metadata": {},
   "source": [
    "* Find `x_min` that minimizes the python function"
   ]
  },
  {
   "cell_type": "markdown",
   "metadata": {},
   "source": [
    "* Plot `f(x)` around the the optimal `x_min`"
   ]
  },
  {
   "cell_type": "code",
   "execution_count": 12,
   "metadata": {
    "collapsed": false
   },
   "outputs": [],
   "source": [
    "df = pd.read_csv('data/leastsquares.csv', index_col=0);"
   ]
  },
  {
   "cell_type": "code",
   "execution_count": 13,
   "metadata": {
    "collapsed": false
   },
   "outputs": [
    {
     "data": {
      "text/plain": [
       "0    45.631415\n",
       "1    14.737389\n",
       "2    92.859182\n",
       "3    51.230321\n",
       "4    49.903596\n",
       "Name: y, dtype: float64"
      ]
     },
     "execution_count": 13,
     "metadata": {},
     "output_type": "execute_result"
    }
   ],
   "source": [
    "df['y'].head()"
   ]
  },
  {
   "cell_type": "markdown",
   "metadata": {
    "collapsed": true
   },
   "source": [
    "# Bonus: Maximum Sum Path"
   ]
  },
  {
   "cell_type": "markdown",
   "metadata": {
    "collapsed": true
   },
   "source": [
    "By starting at the top of the triangle below and moving to adjacent numbers on the row below, the maximum total from top to bottom is 23 = 3 + 7 + 4 + 9.\n",
    "\n",
    "```\n",
    "   3\n",
    "  7 4 \n",
    " 2 4 6\n",
    "8 5 9 3\n",
    "```\n",
    "\n",
    "\n",
    "Find an algorithm that can find the maximum total from top to bottom in a general triangle of any size.\n",
    "\n",
    "Don't implement anything. You only need to describe the algorithm in words or pseudo code. Also pls don't google the solution."
   ]
  },
  {
   "cell_type": "code",
   "execution_count": null,
   "metadata": {
    "collapsed": true
   },
   "outputs": [],
   "source": []
  }
 ],
 "metadata": {
  "kernelspec": {
   "display_name": "Python 3",
   "language": "python",
   "name": "python3"
  },
  "language_info": {
   "codemirror_mode": {
    "name": "ipython",
    "version": 3
   },
   "file_extension": ".py",
   "mimetype": "text/x-python",
   "name": "python",
   "nbconvert_exporter": "python",
   "pygments_lexer": "ipython3",
   "version": "3.4.3"
  }
 },
 "nbformat": 4,
 "nbformat_minor": 0
}
